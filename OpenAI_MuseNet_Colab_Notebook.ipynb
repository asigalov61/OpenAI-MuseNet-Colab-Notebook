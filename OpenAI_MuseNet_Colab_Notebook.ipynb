{
  "nbformat": 4,
  "nbformat_minor": 0,
  "metadata": {
    "colab": {
      "name": "OpenAI_MuseNet_Colab_Notebook.ipynb",
      "provenance": [],
      "private_outputs": true,
      "collapsed_sections": []
    },
    "kernelspec": {
      "name": "python3",
      "display_name": "Python 3"
    },
    "language_info": {
      "name": "python"
    }
  },
  "cells": [
    {
      "cell_type": "markdown",
      "source": [
        "# OpenAI MuseNet Colab Notebook (ver 0.5)\n",
        "\n",
        "***\n",
        "\n",
        "### Source code is courtesy of https://github.com/MrCheeze/musenet-midi and https://github.com/daanklijn/musenet-midi-py\n",
        "\n",
        "***\n",
        "\n",
        "### Project Los Angeles\n",
        "### Tegridy Code 2022\n",
        "\n",
        "***"
      ],
      "metadata": {
        "id": "n2DcV_Uy-yjB"
      }
    },
    {
      "cell_type": "markdown",
      "source": [
        "# Setup Environment"
      ],
      "metadata": {
        "id": "WMeSeP-jAaxd"
      }
    },
    {
      "cell_type": "code",
      "execution_count": null,
      "metadata": {
        "id": "HTRb8bYRXEvl",
        "cellView": "form"
      },
      "outputs": [],
      "source": [
        "#@title Install dependecies\n",
        "!pip install requests\n",
        "!pip install mido"
      ]
    },
    {
      "cell_type": "code",
      "source": [
        "#@title Import modules\n",
        "\n",
        "import secrets\n",
        "import requests\n",
        "from mido import Message, MidiFile, MidiTrack"
      ],
      "metadata": {
        "id": "xkAi7hVd-peK",
        "cellView": "form"
      },
      "execution_count": null,
      "outputs": []
    },
    {
      "cell_type": "markdown",
      "source": [
        "# Querry the MuseNet API"
      ],
      "metadata": {
        "id": "fIKFANhSAkR5"
      }
    },
    {
      "cell_type": "code",
      "source": [
        "#@title Querry API\n",
        "\n",
        "#@markdown Enter genre as a lowercase string or select it from it the menu\n",
        "genre = \"chopin\" #@param [\"chopin\", \"random\"] {allow-input: true}\n",
        "\n",
        "#@markdown Select instruments\n",
        "piano = True #@param {type:\"boolean\"}\n",
        "strings = True #@param {type:\"boolean\"}\n",
        "winds = True #@param {type:\"boolean\"}\n",
        "drums = True #@param {type:\"boolean\"}\n",
        "harp = True #@param {type:\"boolean\"}\n",
        "guitar = True #@param {type:\"boolean\"}\n",
        "bass = True #@param {type:\"boolean\"}\n",
        "\n",
        "#@markdown Generation settings\n",
        "number_of_tokens_to_generate = 512 #@param {type:\"slider\", min:64, max:1024, step:8}\n",
        "temperature = 0.8 #@param {type:\"slider\", min:0.1, max:2, step:0.1}\n",
        "truncation = 20 #@param {type:\"integer\"}\n",
        "\n",
        "\n",
        "genreList = [\"chopin\",\"mozart\",\"rachmaninoff\",\"ladygaga\",\"country\",\"disney\",\"jazz\",\"bach\",\"beethoven\",\"journey\",\"thebeatles\",\"video\",\"broadway\",\"franksinatra\",\"bluegrass\",\"tchaikovsky\",\"liszt\",\"everything\",\"ragtime\",\"andrehazes\",\"cocciante\",\"thecranberries\",\"ligabue\",\"metallica\",\"traffic\",\"philcollins\",\"nineinchnails\",\"thepretenders\",\"sugarray\",\"grandfunkrailroad\",\"ron\",\"ellington\",\"fleetwoodmac\",\"thebeachboys\",\"kool & the gang\",\"foreigner\",\"tlc\",\"scottjames\",\"benfoldsfive\",\"smashmouth\",\"oasis\",\"allsaints\",\"donnasummer\",\"weezer\",\"bjork\",\"mariahcarey\",\"berte\",\"cheaptrick\",\"caroleking\",\"thecars\",\"gganderson\",\"robertpalmer\",\"zucchero\",\"alicecooper\",\"vanhalen\",\"brucehornsby\",\"coolio\",\"jimmybuffett\",\"lobo\",\"badcompany\",\"eminem\",\"creedenceclearwaterrevival\",\"deeppurple\",\"shearinggeorge\",\"robbiewilliams\",\"dalla\",\"ub40\",\"lindaronstadt\",\"sinatra\",\"inxs\",\"jonimitchell\",\"michaeljackson\",\"last\",\"devo\",\"shaniatwain\",\"korn\",\"brooksgarth\",\"sweet\",\"thewho\",\"roxette\",\"bowiedavid\",\"beegees\",\"renefroger\",\"mina\",\"estefangloria\",\"mccartney\",\"theventures\",\"carboni\",\"simplyred\",\"santana\",\"jewel\",\"meatloaf\",\"giorgia\",\"nofx\",\"rickymartin\",\"thecure\",\"thetemptations\",\"tozzi\",\"beck\",\"eiffel65\",\"jenniferlopez\",\"reelbigfish\",\"patsycline\",\"richardcliff\",\"styx\",\"acdc\",\"brucespringsteen\",\"michaelgeorge\",\"blondie\",\"pinkfloyd\",\"oldfieldmike\",\"redhotchilipeppers\",\"therollingstones\",\"morandi\",\"heart\",\"robertaflack\",\"pantera\",\"alabama\",\"jethrotull\",\"hanson\",\"mosch\",\"ludwigvanbeethoven\",\"dvorak\",\"chrisrea\",\"guns n' roses\",\"duranduran\",\"ericclapton\",\"bettemidler\",\"bwitched\",\"gordonlightfoot\",\"thegrassroots\",\"chicago\",\"whitezombie\",\"michaelbolton\",\"paulsimon\",\"marillion\",\"thepointersisters\",\"theanimals\",\"cher\",\"haydn\",\"aerosmith\",\"supertramp\",\"littleriverband\",\"america\",\"tonyorlando\",\"tompetty\",\"thecorrs\",\"aliceinchains\",\"kiss\",\"prince\",\"toto\",\"vanmorrison\",\"wagner\",\"cashjohnny\",\"annielennox\",\"enya\",\"thedoobiebrothers\",\"thetragicallyhip\",\"rush\",\"laurapausini\",\"stevemillerband\",\"simonandgarfunkel\",\"fiorellamannoia\",\"olivianewton-john\",\"carlysimon\",\"elvispresley\",\"vangelis\",\"bobdylan\",\"bbking\",\"vengaboys\",\"paoli\",\"thehollies\",\"alainsouchon\",\"pooh\",\"raf\",\"fiorello\",\"lionelrichie\",\"jimihendrix\",\"theeverlybrothers\",\"limpbizkit\",\"donhenley\",\"georgeharrison\",\"threedognight\",\"johnmellencamp\",\"carpenters\",\"raycharles\",\"basie\",\"billyocean\",\"scorpions\",\"royorbison\",\"whitneyhouston\",\"ironmaiden\",\"jovanotti\",\"alanjackson\",\"barrymanilow\",\"hueylewis\",\"kennyloggins\",\"chopinfrederic\",\"talkingheads\",\"themonkees\",\"rem\",\"jeanmicheljarre\",\"michelezarrillo\",\"eurythmics\",\"thedoors\",\"guesswho\",\"miller\",\"thefourseasons\",\"matiabazar\",\"tompettyandtheheartbreakers\",\"chickcorea\",\"scottjoplin\",\"amedeominghi\",\"bryanadams\",\"paulaabdul\",\"rossivasco\",\"billyjoel\",\"daniele\",\"claudedebussy\",\"gilbert & sullivan\",\"chakakhan\",\"nirvana\",\"garbage\",\"andreabocelli\",\"johnnyrivers\",\"emerson, lake & palmer\",\"theallmanbrothersband\",\"zappa\",\"boston\",\"mango\",\"barbrastreisand\",\"willsmith\",\"ozzyosbourne\",\"janetjackson\",\"antonellovenditti\",\"u2\",\"humperdinckengelbert\",\"jamiroquai\",\"zero\",\"chuckberry\",\"spicegirls\",\"ledzeppelin\",\"masini\",\"thekinks\",\"eagles\",\"billyidol\",\"alanismorissette\",\"joecocker\",\"jimcroce\",\"bobmarley\",\"blacksabbath\",\"stonetemplepilots\",\"silverchair\",\"paulmccartney\",\"blur\",\"nek\",\"greenday\",\"thepolice\",\"depechemode\",\"rageagainstthemachine\",\"madonna\",\"rogerskenny\",\"brooks & dunn\",\"883\",\"thedrifters\",\"amygrant\",\"herman\",\"toriamos\",\"eltonjohn\",\"britneyspears\",\"lennykravitz\",\"celentano\",\"ringostarr\",\"neildiamond\",\"aqua\",\"oscarpeterson\",\"joejackson\",\"moby\",\"collinsphil\",\"leosayer\",\"takethat\",\"electriclightorchestra\",\"pearljam\",\"marcanthony\",\"borodin\",\"petshopboys\",\"stevienicks\",\"hollybuddy\",\"turnertina\",\"annaoxa\",\"zztop\",\"sting\",\"themoodyblues\",\"ruggeri\",\"creed\",\"claudebolling\",\"renzoarbore\",\"erasure\",\"elviscostello\",\"airsupply\",\"tinaturner\",\"leali\",\"petergabriel\",\"nodoubt\",\"bread\",\"huey lewis & the news\",\"brandy\",\"level42\",\"radiohead\",\"georgebenson\",\"wonderstevie\",\"thesmashingpumpkins\",\"cyndilauper\",\"rodstewart\",\"bush\",\"ramazzotti\",\"bobseger\",\"theshadows\",\"gershwin\",\"cream\",\"biagioantonacci\",\"steviewonder\",\"nomadi\",\"direstraits\",\"davidbowie\",\"amostori\",\"thealanparsonsproject\",\"johnlennon\",\"crosbystillsnashandyoung\",\"battiato\",\"kansas\",\"clementi\",\"richielionel\",\"yes\",\"brassensgeorges\",\"steelydan\",\"jacksonmichael\",\"buddyholly\",\"earthwindandfire\",\"natkingcole\",\"therascals\",\"bonjovi\",\"alanparsons\",\"backstreetboys\",\"glencampbell\",\"howardcarpendale\",\"thesupremes\",\"villagepeople\",\"blink-182\",\"jacksonbrowne\",\"sade\",\"lynyrdskynyrd\",\"foofighters\",\"2unlimited\",\"battisti\",\"hall & oates\",\"stansfieldlisa\",\"genesis\",\"boyzone\",\"theoffspring\",\"tomjones\",\"davematthewsband\",\"johnelton\",\"neilyoung\",\"dionnewarwick\",\"aceofbase\",\"marilynmanson\",\"taylorjames\",\"rkelly\",\"grandi\",\"sublime\",\"edvardgrieg\",\"tool\",\"bachjohannsebastian\",\"patbenatar\",\"celinedion\",\"queen\",\"soundgarden\",\"abba\",\"drdre\",\"defleppard\",\"dominofats\",\"realmccoy\",\"natalieimbruglia\",\"hole\",\"spinners\",\"arethafranklin\",\"reospeedwagon\",\"indian\",\"movie\",\"scottish\",\"irish\",\"african\",\"taylorswift\",\"shakira\",\"blues\",\"latin\",\"katyperry\",\"world\",\"kpop\",\"africandrum\",\"michaelbuble\",\"rihanna\",\"gospel\",\"beyonce\",\"chinese\",\"arabic\",\"adele\",\"kellyclarkson\",\"theeagles\",\"handel\",\"rachmaninov\",\"schumann\",\"christmas\",\"dance\",\"punk\",\"natl_anthem\",\"brahms\",\"rap\",\"ravel\",\"burgmueller\",\"other\",\"schubert\",\"granados\",\"albeniz\",\"mendelssohn\",\"debussy\",\"grieg\",\"moszkowski\",\"godowsky\",\"folk\",\"mussorgsky\",\"kids\",\"balakirev\",\"hymns\",\"verdi\",\"hummel\",\"deleted\",\"delibes\",\"saint-saens\",\"puccini\",\"satie\",\"offenbach\",\"widor\",\"songs\",\"stravinsky\",\"vivaldi\",\"gurlitt\",\"alkan\",\"weber\",\"strauss\",\"traditional\",\"rossini\",\"mahler\",\"soler\",\"sousa\",\"telemann\",\"busoni\",\"scarlatti\",\"stamitz\",\"classical\",\"jstrauss2\",\"gabrieli\",\"nielsen\",\"purcell\",\"donizetti\",\"kuhlau\",\"gounod\",\"gibbons\",\"weiss\",\"faure\",\"holst\",\"spohr\",\"monteverdi\",\"reger\",\"bizet\",\"elgar\",\"czerny\",\"sullivan\",\"shostakovich\",\"franck\",\"rubinstein\",\"albrechtsberger\",\"paganini\",\"diabelli\",\"gottschalk\",\"wieniawski\",\"lully\",\"morley\",\"sibelius\",\"scriabin\",\"heller\",\"thalberg\",\"dowland\",\"carulli\",\"pachelbel\",\"sor\",\"marcello\",\"ketterer\",\"rimsky-korsakov\",\"ascher\",\"bruckner\",\"janequin\",\"anonymous\",\"kreutzer\",\"sanz\",\"joplin\",\"susato\",\"giuliani\",\"lassus\",\"palestrina\",\"smetana\",\"berlioz\",\"couperin\",\"gomolka\",\"daquin\",\"herz\",\"campion\",\"walthew\",\"pergolesi\",\"reicha\",\"polak\",\"holborne\",\"hassler\",\"corelli\",\"cato\",\"azzaiolo\",\"anerio\",\"gastoldi\",\"goudimel\",\"dussek\",\"prez\",\"cimarosa\",\"byrd\",\"praetorius\",\"rameau\",\"khachaturian\",\"machaut\",\"gade\",\"perosi\",\"gorzanis\",\"smith\",\"haberbier\",\"carr\",\"marais\",\"glazunov\",\"guerrero\",\"cabanilles\",\"losy\",\"roman\",\"hasse\",\"sammartini\",\"blow\",\"zipoli\",\"duvernoy\",\"aguado\",\"cherubini\",\"victoria\",\"field\",\"andersen\",\"poulenc\",\"d'aragona\",\"lemire\",\"krakowa\",\"maier\",\"rimini\",\"encina\",\"banchieri\",\"best\",\"galilei\",\"warhorse\",\"gypsy\",\"soundtrack\",\"encore\",\"roblaidlow\",\"nationalanthems\",\"benjyshelton\",\"ongcmu\",\"crosbystillsnashyoung\",\"smashingpumpkins\",\"aaaaaaaaaaa\",\"alanismorrisette\",\"animenz\",\"onedirection\",\"nintendo\",\"disneythemes\",\"gunsnroses\",\"rollingstones\",\"juliancasablancas\",\"abdelmoinealfa\",\"berckmansdeoliveira\",\"moviethemes\",\"beachboys\",\"davemathews\",\"videogamethemes\",\"moabberckmansdeoliveira\",\"unknown\",\"cameronleesimpson\",\"johannsebastianbach\",\"thecarpenters\",\"elo\",\"nightwish\",\"blink182\",\"emersonlakeandpalmer\",\"tvthemes\"]\n",
        "if genre == 'random':\n",
        "\tgenre = genreList[secrets.randbelow(len(genreList))]\n",
        "\n",
        "print('Starting up...')\n",
        "\n",
        "headers = {\"Content-Type\": \"application/json\"}\n",
        "\n",
        "data = json.dumps({\n",
        "\t\t\n",
        "\t\t\t\t\"genre\": \"chopin\",\n",
        "\n",
        "\t\t\t\t\"instrument\":{\n",
        "\t\t\t\t\t\"piano\": piano,\n",
        "\t\t\t\t\t\"strings\": strings,\n",
        "\t\t\t\t\t\"winds\": winds,\n",
        "\t\t\t\t\t\"drums\": drums,\n",
        "\t\t\t\t\t\"harp\": harp,\n",
        "\t\t\t\t\t\"guitar\": guitar,\n",
        "\t\t\t\t\t\"bass\": bass\n",
        "\t\t\t\t},\n",
        "\n",
        "\t\t\t\"encoding\": \"\",\n",
        "\n",
        "\t\t\t\"temperature\": temperature,\n",
        "\n",
        "\t\t\t\"truncation\": truncation,\n",
        "\n",
        "\t\t\t\"generationLength\": number_of_tokens_to_generate,\n",
        "\n",
        "\t\t\t\"audioFormat\": \"audio/ogg\"})\n",
        "\n",
        "print('Requesting data from the API. Please wait...')\n",
        "response = requests.post('https://musenet.openai.com/sample', headers=headers, data=data)\n",
        "\n",
        "print('Decoding...')\n",
        "res = response.json()\n",
        "\n",
        "encoding = res['completions'][0]['encoding']\n",
        "\n",
        "print('Done!')"
      ],
      "metadata": {
        "id": "AaLUGVe6ZcrW",
        "cellView": "form"
      },
      "execution_count": null,
      "outputs": []
    },
    {
      "cell_type": "markdown",
      "source": [
        "# Convert MuseNet output to MIDI"
      ],
      "metadata": {
        "id": "QEmsgIjEApWQ"
      }
    },
    {
      "cell_type": "code",
      "source": [
        "#@title Convert to MIDI\n",
        "INSTRUMENTS = [\"piano\", \"piano\", \"piano\", \"piano\", \"piano\", \"piano\", \"piano\", \"piano\", \"piano\",\n",
        "               \"piano\", \"piano\", \"piano\", \"piano\", \"piano\",\n",
        "               \"violin\", \"violin\", \"cello\", \"cello\", \"bass\", \"bass\", \"guitar\", \"guitar\",\n",
        "               \"flute\", \"flute\", \"clarinet\", \"clarinet\", \"trumpet\", \"trumpet\", \"harp\", \"harp\"]\n",
        "\n",
        "TRACK_INDEX = {\"piano\": 0, \"violin\": 1, \"cello\": 2, \"bass\": 3, \"guitar\": 4, \"flute\": 5,\n",
        "               \"clarinet\": 6, \"trumpet\": 7, \"harp\": 8, \"drum\": 9}\n",
        "\n",
        "VOLUMES = [0, 24, 32, 40, 48, 56, 64, 72, 80, 88, 96, 104, 112, 120, 80, 0, 80, 0, 80, 0, 80, 0, 80,\n",
        "           0, 80, 0, 80, 0, 80, 0]\n",
        "\n",
        "DRUM_VELOCITY = 80\n",
        "\n",
        "DELAY_MULTIPLIER = 10\n",
        "\n",
        "\n",
        "def parse_token(token: int):\n",
        "    if 0 <= token < 3840:\n",
        "        note = token % 128\n",
        "        inst_vol_index = token >> 7\n",
        "        velocity = VOLUMES[inst_vol_index]\n",
        "        instrument = INSTRUMENTS[inst_vol_index]\n",
        "        track = instrument\n",
        "        return {\"type\": \"note\", \"note\": note, \"channel\": track, \"velocity\": velocity}\n",
        "    elif 3840 <= token < 3968:\n",
        "        note = token % 128\n",
        "        return {\"type\": \"note\", \"note\": note, \"channel\": \"drum\", \"velocity\": DRUM_VELOCITY}\n",
        "    elif 3968 <= token < 4096:\n",
        "        delay = (token % 128) + 1\n",
        "        return {\"type\": \"wait\", \"time\": delay}\n",
        "    elif token == 4096:\n",
        "        return {\"type\": \"start\"}\n",
        "    else:\n",
        "        return {\"type\": \"invalid\"}\n",
        "\n",
        "\n",
        "midi = MidiFile()\n",
        "tracks = [MidiTrack() for _ in range(10)]\n",
        "delta_times = [0 for _ in range(10)]\n",
        "for token in encoding.split():\n",
        "    parsed = parse_token(int(token))\n",
        "    typez = parsed['type']\n",
        "    if typez == 'note':\n",
        "        track_index = parsed['channel']\n",
        "        volume = parsed['velocity']\n",
        "        #print(delta_times)\n",
        "        #print(track_index)\n",
        "        delay = delta_times[TRACK_INDEX[track_index]]\n",
        "        if delay > 0:\n",
        "            parsed['time'] = delta_times[TRACK_INDEX[track_index]] * DELAY_MULTIPLIER\n",
        "        parsed['channel'] = TRACK_INDEX[track_index]\n",
        "        parsed['type'] = \"note_on\" if volume > 0 else \"note_off\"\n",
        "        delta_times[TRACK_INDEX[track_index]] = 0\n",
        "\n",
        "        track = tracks[TRACK_INDEX[track_index]]\n",
        "        track.append(Message(**parsed))\n",
        "    elif typez == 'wait':\n",
        "        for j in range(10):\n",
        "            delta_times[j] += parsed['time']\n",
        "\n",
        "non_empty_tracks = [track for track in tracks if len(track) > 2]\n",
        "#print(tracks)\n",
        "midi.tracks.extend(non_empty_tracks)\n",
        "midi.save('/content/MuseNet-Output.mid')"
      ],
      "metadata": {
        "id": "UXnvo9S807HZ",
        "cellView": "form"
      },
      "execution_count": null,
      "outputs": []
    },
    {
      "cell_type": "markdown",
      "source": [
        "# Congrats! You did it! :)"
      ],
      "metadata": {
        "id": "plTUM6b4ARDe"
      }
    }
  ]
}